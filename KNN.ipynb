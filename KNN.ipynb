{
 "cells": [
  {
   "cell_type": "markdown",
   "metadata": {},
   "source": [
    "## KNN Code for generating a baseline"
   ]
  },
  {
   "cell_type": "code",
   "execution_count": 1,
   "metadata": {},
   "outputs": [],
   "source": [
    "from sklearn.neighbors import KNeighborsClassifier\n",
    "import pickle\n",
    "import numpy as np"
   ]
  },
  {
   "cell_type": "markdown",
   "metadata": {},
   "source": [
    "### specify file to load data below"
   ]
  },
  {
   "cell_type": "code",
   "execution_count": 2,
   "metadata": {},
   "outputs": [],
   "source": [
    "with open('combined_dict_norm_all_examples.pickle','rb') as handle:\n",
    "    combined_dict = pickle.load(handle)\n",
    "with open('train_ind.pickle','rb') as handle:\n",
    "    train_ind = pickle.load(handle)\n",
    "with open('val_ind.pickle','rb') as handle:\n",
    "    val_ind = pickle.load(handle)\n",
    "with open('test_ind.pickle','rb') as handle:\n",
    "    test_ind = pickle.load(handle)"
   ]
  },
  {
   "cell_type": "code",
   "execution_count": 3,
   "metadata": {},
   "outputs": [],
   "source": [
    "keys = list(combined_dict.keys())"
   ]
  },
  {
   "cell_type": "code",
   "execution_count": 4,
   "metadata": {},
   "outputs": [
    {
     "name": "stdout",
     "output_type": "stream",
     "text": [
      "0\n",
      "1000\n",
      "2000\n",
      "3000\n",
      "4000\n",
      "5000\n",
      "6000\n",
      "7000\n",
      "8000\n",
      "9000\n",
      "10000\n",
      "11000\n",
      "12000\n",
      "13000\n",
      "14000\n",
      "15000\n"
     ]
    }
   ],
   "source": [
    "# Reading the data from the dictionary and creating a train variable for knn\n",
    "X = np.zeros((1,909*40))\n",
    "y = np.zeros((1,50))\n",
    "for i in range(len(train_ind)):\n",
    "    X = np.concatenate((X,combined_dict[keys[i]]['mel_spectrum'][0].flatten().reshape(1,909*40)),axis=0)\n",
    "    y = np.concatenate((y,combined_dict[keys[i]]['output'].reshape(1,50)))\n",
    "    if i%1000==0:\n",
    "        print(i)"
   ]
  },
  {
   "cell_type": "code",
   "execution_count": 5,
   "metadata": {},
   "outputs": [],
   "source": [
    "# remove the first blank row\n",
    "X = X[1:,:]\n",
    "y = y[1:,:]"
   ]
  },
  {
   "cell_type": "code",
   "execution_count": 6,
   "metadata": {},
   "outputs": [
    {
     "name": "stdout",
     "output_type": "stream",
     "text": [
      "(15516, 36360) (15516, 50)\n"
     ]
    }
   ],
   "source": [
    "print(X.shape,y.shape)"
   ]
  },
  {
   "cell_type": "code",
   "execution_count": 20,
   "metadata": {},
   "outputs": [
    {
     "data": {
      "text/plain": [
       "KNeighborsClassifier(algorithm='auto', leaf_size=30, metric='minkowski',\n",
       "           metric_params=None, n_jobs=1, n_neighbors=125, p=2,\n",
       "           weights='uniform')"
      ]
     },
     "execution_count": 20,
     "metadata": {},
     "output_type": "execute_result"
    }
   ],
   "source": [
    "#clf = RandomForestClassifier(n_estimators=100, max_depth=8,\n",
    " #                             random_state=0)\n",
    "#clf.fit(X, y)\n",
    "\n",
    "neigh = KNeighborsClassifier(n_neighbors=125)\n",
    "neigh.fit(X, y) "
   ]
  },
  {
   "cell_type": "markdown",
   "metadata": {},
   "source": [
    "### validation set"
   ]
  },
  {
   "cell_type": "code",
   "execution_count": 22,
   "metadata": {},
   "outputs": [],
   "source": [
    "y_ = np.zeros((1,50)) # predictions on validation set\n",
    "for i in range(len(val_ind)):\n",
    "    pred = neigh.predict(combined_dict[keys[i]]['mel_spectrum'][0].flatten().reshape(1,909*40)) \n",
    "    y_ = np.concatenate((y_,pred),axis=0)\n",
    "y_ = y_[1:,:]\n",
    "\n",
    "if i%100==0:\n",
    "        print(i)\n",
    "        \n",
    "with open('knn_val_pred.pickle','wb') as handle:\n",
    "    pickle.dump(y_,handle)"
   ]
  },
  {
   "cell_type": "code",
   "execution_count": 23,
   "metadata": {
    "scrolled": true
   },
   "outputs": [
    {
     "name": "stdout",
     "output_type": "stream",
     "text": [
      "0\n",
      "100\n",
      "200\n",
      "300\n",
      "400\n",
      "500\n",
      "600\n",
      "700\n",
      "800\n",
      "900\n",
      "1000\n",
      "1100\n",
      "1200\n",
      "1300\n",
      "1400\n",
      "1500\n",
      "1600\n",
      "1700\n",
      "1800\n",
      "1900\n",
      "2000\n",
      "2100\n",
      "2200\n",
      "2300\n",
      "2400\n",
      "2500\n",
      "2600\n",
      "2700\n",
      "2800\n",
      "2900\n",
      "3000\n",
      "3100\n",
      "3200\n",
      "3300\n",
      "3400\n",
      "3500\n",
      "3600\n",
      "3700\n",
      "3800\n",
      "3900\n",
      "4000\n",
      "4100\n",
      "4200\n",
      "4300\n",
      "4400\n",
      "4500\n",
      "4600\n",
      "4700\n",
      "4800\n",
      "4900\n",
      "5000\n",
      "5100\n",
      "(5172, 50)\n"
     ]
    }
   ],
   "source": [
    "true_labels = np.zeros((1,50))\n",
    "for ind in range(len(val_ind)):\n",
    "    true_labels = np.concatenate((true_labels,combined_dict[keys[ind]]['output'].reshape(1,50)))\n",
    "    if ind%100==0:\n",
    "        print(ind)\n",
    "true_labels = true_labels[1:,:]\n",
    "print(true_labels.shape)"
   ]
  },
  {
   "cell_type": "markdown",
   "metadata": {},
   "source": [
    "### running a AUC test"
   ]
  },
  {
   "cell_type": "code",
   "execution_count": 25,
   "metadata": {},
   "outputs": [
    {
     "name": "stdout",
     "output_type": "stream",
     "text": [
      "0.5104999704328474\n"
     ]
    }
   ],
   "source": [
    "from sklearn.metrics import roc_auc_score\n",
    "\n",
    "auc_roc = roc_auc_score(true_labels,y_)\n",
    "print(auc_roc)"
   ]
  },
  {
   "cell_type": "markdown",
   "metadata": {},
   "source": [
    "### test set"
   ]
  },
  {
   "cell_type": "code",
   "execution_count": 32,
   "metadata": {},
   "outputs": [],
   "source": [
    "y_ = np.zeros((1,50)) # predictions on test set\n",
    "for i in range(len(test_ind)):\n",
    "    pred = neigh.predict(combined_dict[keys[i]]['mel_spectrum'][0].flatten().reshape(1,909*40)) \n",
    "    y_ = np.concatenate((y_,pred),axis=0)\n",
    "y_ = y_[1:,:]\n",
    "with open('knn_test_pred.pickle','wb') as handle:\n",
    "    pickle.dump(y_,handle)"
   ]
  },
  {
   "cell_type": "code",
   "execution_count": 33,
   "metadata": {},
   "outputs": [],
   "source": [
    "pickle_in = open(\"knn_test_pred.pickle\", \"rb\")\n",
    "yy_ = pickle.load(pickle_in)"
   ]
  },
  {
   "cell_type": "code",
   "execution_count": 34,
   "metadata": {
    "scrolled": true
   },
   "outputs": [
    {
     "name": "stdout",
     "output_type": "stream",
     "text": [
      "0\n",
      "100\n",
      "200\n",
      "300\n",
      "400\n",
      "500\n",
      "600\n",
      "700\n",
      "800\n",
      "900\n",
      "1000\n",
      "1100\n",
      "1200\n",
      "1300\n",
      "1400\n",
      "1500\n",
      "1600\n",
      "1700\n",
      "1800\n",
      "1900\n",
      "2000\n",
      "2100\n",
      "2200\n",
      "2300\n",
      "2400\n",
      "2500\n",
      "2600\n",
      "2700\n",
      "2800\n",
      "2900\n",
      "3000\n",
      "3100\n",
      "3200\n",
      "3300\n",
      "3400\n",
      "3500\n",
      "3600\n",
      "3700\n",
      "3800\n",
      "3900\n",
      "4000\n",
      "4100\n",
      "4200\n",
      "4300\n",
      "4400\n",
      "4500\n",
      "4600\n",
      "4700\n",
      "4800\n",
      "4900\n",
      "5000\n",
      "5100\n",
      "(5173, 50)\n"
     ]
    }
   ],
   "source": [
    "true_labels = np.zeros((1,50))\n",
    "for ind in range(len(test_ind)):\n",
    "    true_labels = np.concatenate((true_labels,combined_dict[keys[ind]]['output'].reshape(1,50)))\n",
    "    if ind%100==0:\n",
    "        print(ind)\n",
    "true_labels = true_labels[1:,:]\n",
    "print(true_labels.shape)"
   ]
  },
  {
   "cell_type": "code",
   "execution_count": 35,
   "metadata": {},
   "outputs": [
    {
     "name": "stdout",
     "output_type": "stream",
     "text": [
      "0.5104941802236894\n"
     ]
    }
   ],
   "source": [
    "auc_roc = roc_auc_score(true_labels,yy_)\n",
    "print(auc_roc)"
   ]
  },
  {
   "cell_type": "code",
   "execution_count": null,
   "metadata": {},
   "outputs": [],
   "source": [
    "5104941802236894"
   ]
  },
  {
   "cell_type": "code",
   "execution_count": 36,
   "metadata": {},
   "outputs": [
    {
     "name": "stdout",
     "output_type": "stream",
     "text": [
      "(5173, 50)\n"
     ]
    }
   ],
   "source": [
    "print(yy_.shape)"
   ]
  },
  {
   "cell_type": "code",
   "execution_count": null,
   "metadata": {},
   "outputs": [],
   "source": []
  }
 ],
 "metadata": {
  "kernelspec": {
   "display_name": "Python 3",
   "language": "python",
   "name": "python3"
  },
  "language_info": {
   "codemirror_mode": {
    "name": "ipython",
    "version": 3
   },
   "file_extension": ".py",
   "mimetype": "text/x-python",
   "name": "python",
   "nbconvert_exporter": "python",
   "pygments_lexer": "ipython3",
   "version": "3.6.4"
  }
 },
 "nbformat": 4,
 "nbformat_minor": 2
}
